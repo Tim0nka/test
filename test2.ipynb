{
 "cells": [
  {
   "cell_type": "code",
   "execution_count": 1,
   "metadata": {},
   "outputs": [],
   "source": [
    "for i in range(13, 100000000):\n",
    "    if i<1:\n",
    "        if i<2:\n",
    "            if i<3:\n",
    "                if i<4:\n",
    "                    if i<5:\n",
    "                        if i<6:\n",
    "                            if i<7:\n",
    "                                if i<8:\n",
    "                                    if i<9:\n",
    "                                        if i<10:\n",
    "                                            if i<11:\n",
    "                                                if i<12:\n",
    "                                                    print(i)"
   ]
  }
 ],
 "metadata": {
  "kernelspec": {
   "display_name": "Python 3",
   "language": "python",
   "name": "python3"
  },
  "language_info": {
   "codemirror_mode": {
    "name": "ipython",
    "version": 3
   },
   "file_extension": ".py",
   "mimetype": "text/x-python",
   "name": "python",
   "nbconvert_exporter": "python",
   "pygments_lexer": "ipython3",
   "version": "3.12.3"
  }
 },
 "nbformat": 4,
 "nbformat_minor": 2
}

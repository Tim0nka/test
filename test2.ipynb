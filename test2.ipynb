{
 "cells": [
  {
   "cell_type": "code",
   "execution_count": 5,
   "metadata": {},
   "outputs": [
    {
     "name": "stdout",
     "output_type": "stream",
     "text": [
      "2.8592817783355713\n"
     ]
    }
   ],
   "source": [
    "import time\n",
    "start_time = time.time()\n",
    "for i in range(13, 100000000,1):\n",
    "    if i<1:\n",
    "        if i<2:\n",
    "            if i<3:\n",
    "                if i<4:\n",
    "                    if i<5:\n",
    "                        if i<6:\n",
    "                            if i<7:\n",
    "                                if i<8:\n",
    "                                    if i<9:\n",
    "                                        if i<10:\n",
    "                                            if i<11:\n",
    "                                                if i<12:\n",
    "                                                    print(i)\n",
    "end_time = time.time()\n",
    "x = end_time - start_time\n",
    "print(x)"
   ]
  }
 ],
 "metadata": {
  "kernelspec": {
   "display_name": "Python 3",
   "language": "python",
   "name": "python3"
  },
  "language_info": {
   "codemirror_mode": {
    "name": "ipython",
    "version": 3
   },
   "file_extension": ".py",
   "mimetype": "text/x-python",
   "name": "python",
   "nbconvert_exporter": "python",
   "pygments_lexer": "ipython3",
   "version": "3.12.3"
  }
 },
 "nbformat": 4,
 "nbformat_minor": 2
}
